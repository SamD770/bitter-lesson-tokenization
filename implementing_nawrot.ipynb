{
 "cells": [
  {
   "cell_type": "code",
   "execution_count": 7,
   "metadata": {},
   "outputs": [],
   "source": [
    "import torch\n",
    "from torch import nn"
   ]
  },
  {
   "cell_type": "code",
   "execution_count": 8,
   "metadata": {},
   "outputs": [],
   "source": [
    "import nawrot_downsampler"
   ]
  },
  {
   "cell_type": "markdown",
   "metadata": {},
   "source": [
    "Their code relies on a specific construction of the average downsampling matrix from the gate values that allows for backpropagation through this construction, so we can't use a standard average downsampler."
   ]
  },
  {
   "cell_type": "code",
   "execution_count": 33,
   "metadata": {},
   "outputs": [],
   "source": [
    "class NawrotDownsampler(nn.Module):\n",
    "    def __init__(self, embedding_dim: int, downsample_rate: float):\n",
    "        super().__init__()\n",
    "        self.embedding_dim = embedding_dim\n",
    "        self.downsample_rate = downsample_rate\n",
    "        self.boundary_predictor = nawrot_downsampler.BoundaryPredictor(embedding_dim, embedding_dim, \"relu\", \n",
    "                                                                       temp=1.0, prior=self.downsample_rate, bp_type=\"gumbel\")\n",
    "        \n",
    "        self.null_group = nn.Parameter(torch.Tensor(1, 1, embedding_dim).zero_())\n",
    "        nn.init.normal_(self.null_group)\n",
    "\n",
    "    def compute_boundaries(self, x: torch.Tensor) -> torch.Tensor:\n",
    "        \"\"\"Computes the boundaries for the input tensor x using the Nawrot et al. 2023 method.\"\"\"\n",
    "        # x is of shape [bs, seq_len, emb_dim], but nawrot_downsampler expects [seq_len, bs, emb_dim]\n",
    "        x = x.transpose(0, 1)\n",
    "\n",
    "        # Get the boundary predictions\n",
    "        _, hard_boundaries = self.boundary_predictor(x)\n",
    "        \n",
    "        return hard_boundaries\n",
    "\n",
    "    def downsample(self, x: torch.Tensor, hard_boundaries: torch.Tensor) -> torch.Tensor:\n",
    "        \"\"\"Downsamples the input tensor x using the Nawrot et al. 2023 method.\"\"\"\n",
    "        # x is of shape [bs, seq_len, emb_dim], but nawrot_downsampler expects [seq_len, bs, emb_dim]\n",
    "        x = x.transpose(0, 1)\n",
    "\n",
    "        # Downsample the input\n",
    "        x = nawrot_downsampler.downsample(\n",
    "            hard_boundaries, \n",
    "            x, \n",
    "            self.null_group\n",
    "        )\n",
    "\n",
    "        # Return to the original shape\n",
    "        x = x.transpose(0, 1)\n",
    "        return x\n",
    "    \n",
    "    \n",
    "    def downsample_position_ids(self, position_ids: torch.Tensor, hard_boundaries: torch.Tensor) -> torch.Tensor:\n",
    "        \"\"\"Downsamples the position ids using the Nawrot et al. 2023 method.\"\"\"\n",
    "        # position_ids is of shape [bs, seq_len], but nawrot_downsampler expects [seq_len, bs, d]\n",
    "        position_ids = position_ids.transpose(0, 1)\n",
    "        position_ids = position_ids.unsqueeze(-1)\n",
    "\n",
    "        position_ids = nawrot_downsampler.downsample(\n",
    "            hard_boundaries, \n",
    "            position_ids, \n",
    "            torch.Tensor(1, 1, 1).zero_().to(position_ids.device)\n",
    "        )\n",
    "\n",
    "        position_ids = position_ids.squeeze(-1)\n",
    "        position_ids = position_ids.transpose(0, 1)\n",
    "        return position_ids\n",
    "    \n",
    "    def upsample(self, x: torch.Tensor, hard_boundaries: torch.Tensor) -> torch.Tensor:\n",
    "        \"\"\"Upsamples the input tensor x using the Nawrot et al. 2023 method.\"\"\"\n",
    "        # x is of shape [bs, seq_len, emb_dim], but nawrot_downsampler expects [seq_len, bs, emb_dim]\n",
    "        x = x.transpose(0, 1)\n",
    "\n",
    "        # Upsample the input\n",
    "        x = nawrot_downsampler.upsample(\n",
    "            hard_boundaries, \n",
    "            x\n",
    "        )\n",
    "\n",
    "        # Return to the original shape\n",
    "        x = x.transpose(0, 1)\n",
    "\n",
    "        return x\n",
    "    \n",
    "    def consistency_loss(self, hard_boundaries: torch.Tensor) -> torch.Tensor:\n",
    "        return self.boundary_predictor.calc_loss(\n",
    "            preds=hard_boundaries, gt=None\n",
    "        )"
   ]
  },
  {
   "cell_type": "code",
   "execution_count": 34,
   "metadata": {},
   "outputs": [],
   "source": [
    "d_model = 512"
   ]
  },
  {
   "cell_type": "code",
   "execution_count": 35,
   "metadata": {},
   "outputs": [
    {
     "data": {
      "text/plain": [
       "(torch.Size([2, 7, 512]), torch.Size([2, 10, 512]))"
      ]
     },
     "execution_count": 35,
     "metadata": {},
     "output_type": "execute_result"
    }
   ],
   "source": [
    "x = torch.randn(2, 10, 512)\n",
    "downsampler = NawrotDownsampler(512, 0.25)\n",
    "\n",
    "hard_boundaries = downsampler.compute_boundaries(x)\n",
    "\n",
    "x_downsampled = downsampler.downsample(x, hard_boundaries)\n",
    "\n",
    "x_upsampled = downsampler.upsample(x_downsampled, hard_boundaries)\n",
    "\n",
    "x_downsampled.shape, x_upsampled.shape\n"
   ]
  },
  {
   "cell_type": "code",
   "execution_count": 36,
   "metadata": {},
   "outputs": [
    {
     "data": {
      "text/plain": [
       "NawrotDownsampler(\n",
       "  (boundary_predictor): BoundaryPredictor(\n",
       "    (boundary_predictor): Sequential(\n",
       "      (0): Linear(in_features=512, out_features=512, bias=True)\n",
       "      (1): ReLU(inplace=True)\n",
       "      (2): Linear(in_features=512, out_features=1, bias=True)\n",
       "    )\n",
       "    (loss): BCEWithLogitsLoss()\n",
       "  )\n",
       ")"
      ]
     },
     "execution_count": 36,
     "metadata": {},
     "output_type": "execute_result"
    }
   ],
   "source": [
    "downsampler"
   ]
  },
  {
   "cell_type": "code",
   "execution_count": 37,
   "metadata": {},
   "outputs": [
    {
     "data": {
      "text/plain": [
       "torch.Size([2, 10, 1])"
      ]
     },
     "execution_count": 37,
     "metadata": {},
     "output_type": "execute_result"
    }
   ],
   "source": [
    "position_ids = torch.arange(10, dtype=x.dtype).unsqueeze(0).expand(2, -1).unsqueeze(-1).to(x.device)\n",
    "position_ids.shape"
   ]
  },
  {
   "cell_type": "code",
   "execution_count": 41,
   "metadata": {},
   "outputs": [
    {
     "data": {
      "text/plain": [
       "tensor([[[0.0000],\n",
       "         [0.0000],\n",
       "         [1.5000],\n",
       "         [3.5000],\n",
       "         [5.0000],\n",
       "         [6.5000],\n",
       "         [8.0000]],\n",
       "\n",
       "        [[0.0000],\n",
       "         [0.5000],\n",
       "         [2.5000],\n",
       "         [4.0000],\n",
       "         [5.0000],\n",
       "         [6.5000],\n",
       "         [8.5000]]], grad_fn=<TransposeBackward0>)"
      ]
     },
     "execution_count": 41,
     "metadata": {},
     "output_type": "execute_result"
    }
   ],
   "source": [
    "downsampler.downsample_position_ids(position_ids, hard_boundaries)"
   ]
  },
  {
   "cell_type": "code",
   "execution_count": 40,
   "metadata": {},
   "outputs": [
    {
     "data": {
      "text/plain": [
       "tensor([[1., 0., 1., 0., 1., 1., 0., 1., 1., 0.],\n",
       "        [0., 1., 0., 1., 1., 1., 0., 1., 0., 1.]], grad_fn=<AddBackward0>)"
      ]
     },
     "execution_count": 40,
     "metadata": {},
     "output_type": "execute_result"
    }
   ],
   "source": [
    "hard_boundaries"
   ]
  },
  {
   "cell_type": "code",
   "execution_count": 42,
   "metadata": {},
   "outputs": [
    {
     "data": {
      "text/plain": [
       "tensor(0.4121, grad_fn=<DivBackward0>)"
      ]
     },
     "execution_count": 42,
     "metadata": {},
     "output_type": "execute_result"
    }
   ],
   "source": [
    "downsampler.consistency_loss(hard_boundaries)"
   ]
  },
  {
   "cell_type": "code",
   "execution_count": null,
   "metadata": {},
   "outputs": [],
   "source": []
  }
 ],
 "metadata": {
  "kernelspec": {
   "display_name": "Python 3 (ipykernel)",
   "language": "python",
   "name": "python3"
  },
  "language_info": {
   "codemirror_mode": {
    "name": "ipython",
    "version": 3
   },
   "file_extension": ".py",
   "mimetype": "text/x-python",
   "name": "python",
   "nbconvert_exporter": "python",
   "pygments_lexer": "ipython3",
   "version": "3.12.7"
  }
 },
 "nbformat": 4,
 "nbformat_minor": 2
}
